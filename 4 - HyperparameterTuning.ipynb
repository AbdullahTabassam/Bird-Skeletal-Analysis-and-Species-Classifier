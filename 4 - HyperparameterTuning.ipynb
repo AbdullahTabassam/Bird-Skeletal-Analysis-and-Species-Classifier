{
 "cells": [
  {
   "attachments": {},
   "cell_type": "markdown",
   "id": "0a52fec7",
   "metadata": {},
   "source": [
    "# Machine Learning Model Development"
   ]
  },
  {
   "cell_type": "markdown",
   "id": "17491e25",
   "metadata": {},
   "source": [
    "## 4 - Hyper-parameter tuning"
   ]
  },
  {
   "cell_type": "markdown",
   "id": "6f9571eb",
   "metadata": {},
   "source": [
    "The hyperparameters are used to increse the performance of the model and for each model a number of hyperparameters can be used. A few of these hyperparameters for the discussed models are discused below;"
   ]
  },
  {
   "cell_type": "markdown",
   "id": "c0e95bdf",
   "metadata": {},
   "source": [
    "###### Logistic Regression"
   ]
  },
  {
   "cell_type": "markdown",
   "id": "d96ce7b6",
   "metadata": {},
   "source": [
    "An important hyperparameter for LR model is max_iter which is used to select the maximum number of iterations. Solver hyperparameter is used to select the algorithm to optimize the problem. Some solvers are ‘newton-cg’, ‘lbfgs’, ‘liblinear’, ‘sag’, and ‘saga’. Our data is not that big and the solver used for smaller datasets is ‘liblinear’. ‘liblinear’ solver also uses a hyperparameter called penalty. The default parameter for penalty is ‘L2’, which we can change to see the performance of the model. Another hyperparameter C is available that is the inverse of regularization strength. A small value of C will provide greater regularization."
   ]
  },
  {
   "cell_type": "markdown",
   "id": "2a3bd27a",
   "metadata": {},
   "source": [
    "###### SVM"
   ]
  },
  {
   "cell_type": "markdown",
   "id": "940e4feb",
   "metadata": {},
   "source": [
    "The separation of the data points is based on the kernel selected. There are ‘Linear’, ‘Polynomial’, ‘Gaussian’, ‘Radial Basis Function’, and ‘Sigmoid’ kernels available. The hyperparameter ‘C’ is help reduce misclassification of training samples and is used in all types of the kernels. Lower value of ‘C’ tends to smooth the decision surface, whereas a higher value ‘C’ tries to classify at all training samples correctly. Another hyperparameter called ‘gamma’ is used which defines the effect of each training data point. For data points very close, larger ‘gamma’ value is selected and vice versa."
   ]
  },
  {
   "cell_type": "markdown",
   "id": "a97e2f72",
   "metadata": {},
   "source": [
    "###### KNN\n",
    "The type of distance to be calculated is set by using the ‘p’ hyperparameter. For Euclidian distance p = 2 and for\n",
    "Manhattan distance p = 1. To decide the number of neighbors to which the distance is to be measured, the\n",
    "hyperparameter ‘n_neighbors’ is used. An interesting way to tune this parameter is to plot an accuracy rate vs K-value graph at different values of K. By observing the trend of this graph we can see if a higher value of K is more\n",
    "effective or a lower value. (The plot is shown below and is generated in another notebook when testing KNN separately, we will be using Grid Search method in this notebook)"
   ]
  },
  {
   "cell_type": "code",
   "execution_count": 62,
   "id": "379663b0",
   "metadata": {},
   "outputs": [
    {
     "data": {
      "text/plain": [
       "<matplotlib.image.AxesImage at 0x7f51468e8490>"
      ]
     },
     "execution_count": 62,
     "metadata": {},
     "output_type": "execute_result"
    },
    {
     "data": {
      "image/png": "[encoded data removed]",
      "text/plain": [
       "<Figure size 720x576 with 1 Axes>"
      ]
     },
     "metadata": {},
     "output_type": "display_data"
    }
   ],
   "source": [
    "from matplotlib import image as mpimg\n",
    "\n",
    "plt.figure(figsize=(10,8))\n",
    "image = mpimg.imread(\"Accuracy.png\")\n",
    "plt.axis('off')\n",
    "plt.imshow(image)"
   ]
  },
  {
   "cell_type": "markdown",
   "id": "45fe2216",
   "metadata": {},
   "source": [
    "Increasing K value, reduces accuracy in our case. We will see this when we perform grid search on different parameters.\n",
    "\n",
    "We will also use parameters like algorithm ({‘auto’, ‘ball_tree’, ‘kd_tree’, ‘brute’}, default=’auto’) which is used in distance clculation, and weight with possible values {‘uniform’, ‘distance’}, which is used in prediction. "
   ]
  },
  {
   "cell_type": "markdown",
   "id": "e0c4d462",
   "metadata": {},
   "source": [
    "## GridSearchCV"
   ]
  },
  {
   "cell_type": "markdown",
   "id": "9fc2126e",
   "metadata": {},
   "source": [
    "GridSearchCV is takes as input, the hyperparameters and models, tries all the combinations and return the set of hyperparameters that give the best result. The metric for the best result is selected to be Recall as we are more interested in recall than accuracy. This method, though slow, helps a lot in selecting the model hyperparameters and for a problem like ours, with a small data set we can easly use this method."
   ]
  },
  {
   "cell_type": "code",
   "execution_count": 63,
   "id": "2961d2be",
   "metadata": {},
   "outputs": [],
   "source": [
    "model_params = {\n",
    "    'logistic_regression' : {\n",
    "        'model': LogisticRegression(multi_class='auto'),\n",
    "        'params': {\n",
    "            'random_state':[4],\n",
    "            'penalty':[ 'l2', 'elasticnet'],\n",
    "            'C': [0.1,1,10],\n",
    "            'solver':['newton-cg', 'lbfgs', 'liblinear', 'sag', 'saga','newton-cholesky'],\n",
    "            'multi_class':['ovr']\n",
    "        }\n",
    "    },  \n",
    "    'svm': {\n",
    "        'model': svm.SVC(),\n",
    "        'params' : {\n",
    "            \n",
    "            'random_state':[4],\n",
    "            'gamma':[0.0001,1,10,'scale'],\n",
    "            'C': [1,10,100],\n",
    "            'kernel':['poly','linear','sigmoid','rbf']\n",
    "        }  \n",
    "    },\n",
    "    'knn': {\n",
    "        'model': KNeighborsClassifier(),\n",
    "        'params': {\n",
    "            'n_neighbors':[1,2,3,4,5],\n",
    "            'weights': ['uniform', 'distance'],\n",
    "            'p':[1,2],\n",
    "            'algorithm' :['auto', 'ball_tree', 'kd_tree', 'brute'],\n",
    "            \n",
    "        }\n",
    "    }     \n",
    "}"
   ]
  },
  {
   "cell_type": "code",
   "execution_count": 64,
   "id": "95b0255c",
   "metadata": {},
   "outputs": [
    {
     "data": {
      "text/html": [
       "<div>\n",
       "<style scoped>\n",
       "    .dataframe tbody tr th:only-of-type {\n",
       "        vertical-align: middle;\n",
       "    }\n",
       "\n",
       "    .dataframe tbody tr th {\n",
       "        vertical-align: top;\n",
       "    }\n",
       "\n",
       "    .dataframe thead th {\n",
       "        text-align: right;\n",
       "    }\n",
       "</style>\n",
       "<table border=\"1\" class=\"dataframe\">\n",
       "  <thead>\n",
       "    <tr style=\"text-align: right;\">\n",
       "      <th></th>\n",
       "      <th>model</th>\n",
       "      <th>best_params</th>\n",
       "    </tr>\n",
       "  </thead>\n",
       "  <tbody>\n",
       "    <tr>\n",
       "      <th>0</th>\n",
       "      <td>logistic_regression</td>\n",
       "      <td>{'C': 10, 'multi_class': 'ovr', 'penalty': 'l2...</td>\n",
       "    </tr>\n",
       "    <tr>\n",
       "      <th>1</th>\n",
       "      <td>svm</td>\n",
       "      <td>{'C': 100, 'gamma': 1, 'kernel': 'rbf', 'rando...</td>\n",
       "    </tr>\n",
       "    <tr>\n",
       "      <th>2</th>\n",
       "      <td>knn</td>\n",
       "      <td>{'algorithm': 'auto', 'n_neighbors': 1, 'p': 2...</td>\n",
       "    </tr>\n",
       "  </tbody>\n",
       "</table>\n",
       "</div>"
      ],
      "text/plain": [
       "                 model                                        best_params\n",
       "0  logistic_regression  {'C': 10, 'multi_class': 'ovr', 'penalty': 'l2...\n",
       "1                  svm  {'C': 100, 'gamma': 1, 'kernel': 'rbf', 'rando...\n",
       "2                  knn  {'algorithm': 'auto', 'n_neighbors': 1, 'p': 2..."
      ]
     },
     "execution_count": 64,
     "metadata": {},
     "output_type": "execute_result"
    }
   ],
   "source": [
    "import warnings\n",
    "warnings.filterwarnings('ignore')      # To ignore all the warnings and keep space clean \n",
    "from sklearn.model_selection import GridSearchCV\n",
    "\n",
    "scores = []\n",
    "\n",
    "for model_name, mp in model_params.items():\n",
    "    clf =  GridSearchCV(mp['model'], mp['params'], cv=5,scoring='recall_macro', return_train_score=False)\n",
    "    clf.fit(X_train, y_train)\n",
    "    scores.append({\n",
    "        'model': model_name,\n",
    "        'best_params': clf.best_params_\n",
    "    })\n",
    "    \n",
    "df = pd.DataFrame(scores,columns=['model','best_params'])    #Save the patameters in a pandas dataframe \n",
    "df"
   ]
  },
  {
   "cell_type": "markdown",
   "id": "79eccbb6",
   "metadata": {},
   "source": [
    "The above dataframe shows the best hyperparameters for the three models chosen. In the next step, we will put these hyperparameters to these models and see the actual performance of each model."
   ]
  },
  {
   "cell_type": "markdown",
   "id": "774ebc7d",
   "metadata": {},
   "source": [
    "### Tuned Model Training"
   ]
  },
  {
   "cell_type": "markdown",
   "id": "9550f00b",
   "metadata": {},
   "source": [
    "### Logistic Regression"
   ]
  },
  {
   "cell_type": "markdown",
   "id": "0017148f",
   "metadata": {},
   "source": [
    "Lets start by training the LR model using the best hyperparameters that were calculated by grid search. These parameters were as follow;"
   ]
  },
  {
   "cell_type": "code",
   "execution_count": 65,
   "id": "799a8ce8",
   "metadata": {},
   "outputs": [
    {
     "data": {
      "text/plain": [
       "{'C': 10,\n",
       " 'multi_class': 'ovr',\n",
       " 'penalty': 'l2',\n",
       " 'random_state': 4,\n",
       " 'solver': 'newton-cg'}"
      ]
     },
     "execution_count": 65,
     "metadata": {},
     "output_type": "execute_result"
    }
   ],
   "source": [
    "df.best_params[0] # The best hyper parameters for Logestic Regression model"
   ]
  },
  {
   "cell_type": "markdown",
   "id": "42c86903",
   "metadata": {},
   "source": [
    "All solvers do not support l1 penaltay that is why it is not used in grid search. I have tried it separately but it does not out perform l2 in this case"
   ]
  },
  {
   "cell_type": "code",
   "execution_count": 66,
   "id": "7090088b",
   "metadata": {},
   "outputs": [
    {
     "data": {
      "text/plain": [
       "LogisticRegression(C=1, multi_class='ovr', random_state=4, solver='sag')"
      ]
     },
     "execution_count": 66,
     "metadata": {},
     "output_type": "execute_result"
    }
   ],
   "source": [
    "model_logistic=LogisticRegression(penalty='l2',solver='sag',C=1,multi_class='ovr',random_state=4)\n",
    "model_logistic.fit(X_train, y_train)"
   ]
  },
  {
   "cell_type": "code",
   "execution_count": 67,
   "id": "c0ed5eba",
   "metadata": {},
   "outputs": [
    {
     "data": {
      "text/plain": [
       "<AxesSubplot:>"
      ]
     },
     "execution_count": 67,
     "metadata": {},
     "output_type": "execute_result"
    },
    {
     "data": {
      "image/png": "[encoded data removed]",
      "text/plain": [
       "<Figure size 1008x360 with 4 Axes>"
      ]
     },
     "metadata": {},
     "output_type": "display_data"
    }
   ],
   "source": [
    "_, axes = plt.subplots(nrows=1, ncols=2, figsize=(14, 5))\n",
    "\n",
    "cf_matrix=confusion_matrix(y_test,model_logistic.predict(X_test))\n",
    "\n",
    "sns.heatmap(cf_matrix, annot=True,cmap='YlGnBu',ax=axes[0])\n",
    "\n",
    "sns.heatmap(cf_matrix/np.sum(cf_matrix), annot=True,fmt='.2%', cmap='Blues',ax=axes[1])"
   ]
  },
  {
   "cell_type": "code",
   "execution_count": 68,
   "id": "f03f5a64",
   "metadata": {
    "scrolled": false
   },
   "outputs": [
    {
     "name": "stdout",
     "output_type": "stream",
     "text": [
      "              precision    recall  f1-score   support\n",
      "\n",
      "           P       0.78      0.64      0.70        11\n",
      "           R       0.57      0.73      0.64        11\n",
      "          SO       1.00      0.93      0.96        27\n",
      "          SW       1.00      0.79      0.88        19\n",
      "           T       0.33      0.67      0.44         3\n",
      "           W       0.55      0.67      0.60         9\n",
      "\n",
      "    accuracy                           0.79        80\n",
      "   macro avg       0.70      0.74      0.70        80\n",
      "weighted avg       0.83      0.79      0.80        80\n",
      "\n"
     ]
    }
   ],
   "source": [
    "print(classification_report(y_test,model_logistic.predict(X_test),target_names=label.classes_))"
   ]
  },
  {
   "cell_type": "code",
   "execution_count": 69,
   "id": "3396cfe9",
   "metadata": {},
   "outputs": [
    {
     "name": "stdout",
     "output_type": "stream",
     "text": [
      "Average Specificity = 0.95\n",
      "Loss = 0.081\n",
      "\n",
      "Class     Specificity\n",
      "P          0.96\n",
      "R          0.90\n",
      "SO         1.00\n",
      "SW         1.00\n",
      "T          0.93\n",
      "W          0.91\n"
     ]
    }
   ],
   "source": [
    "Avg_specificity,Spec_per_class,Loss=specificity(cf_matrix)\n",
    "print('Average Specificity = %.2f'% Avg_specificity)\n",
    "print('Loss = %.3f'% Loss)\n",
    "print('\\nClass',((Spec_per_class*100).astype(int))/100)"
   ]
  },
  {
   "cell_type": "code",
   "execution_count": 70,
   "id": "932c7860",
   "metadata": {},
   "outputs": [],
   "source": [
    "# Get the values from classification report as a dictionary to plot the graphs.\n",
    "metric_dict_LR= classification_report(y_test,model_logistic.predict(X_test),output_dict=True)\n",
    "# Assignimg the important metrics variables so they can be used in plotting\n",
    "Precision_LR  = round(metric_dict_LR['macro avg']['precision']*100)\n",
    "Recall_LR     = round(metric_dict_LR['macro avg']['recall']*100)\n",
    "Specificity_LR= round(Avg_specificity*100)\n",
    "F1_LR         = round(metric_dict_LR['macro avg']['f1-score']*100)\n",
    "Accuracy_LR   = round(metric_dict_LR['accuracy']*100)\n",
    "Loss_LR       = (Loss*100)"
   ]
  },
  {
   "cell_type": "markdown",
   "id": "a051aa67",
   "metadata": {},
   "source": [
    "Observing the classification report for logistic regression model shows that the results emain the same, either we use solver sag or lbfgs. This is the best recall that we get using logistic regression,ie 81%."
   ]
  }
 ],
 "metadata": {
  "kernelspec": {
   "display_name": "Python 3",
   "language": "python",
   "name": "python3"
  },
  "language_info": {
   "codemirror_mode": {
    "name": "ipython",
    "version": 3
   },
   "file_extension": ".py",
   "mimetype": "text/x-python",
   "name": "python",
   "nbconvert_exporter": "python",
   "pygments_lexer": "ipython3",
   "version": "3.7.11"
  }
 },
 "nbformat": 4,
 "nbformat_minor": 5
}
