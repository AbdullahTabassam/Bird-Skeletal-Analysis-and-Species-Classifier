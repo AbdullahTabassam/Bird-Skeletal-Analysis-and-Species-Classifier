{
 "cells": [
  {
   "attachments": {},
   "cell_type": "markdown",
   "id": "0a52fec7",
   "metadata": {},
   "source": [
    "# Machine Learning Model Development"
   ]
  },
  {
   "cell_type": "markdown",
   "id": "6e2b4a9b",
   "metadata": {},
   "source": [
    "\n",
    "## 1 - Exploratory Data Analysis (EDA)\n"
   ]
  },
  {
   "cell_type": "markdown",
   "id": "6ba94ddb",
   "metadata": {},
   "source": [
    "### Importing important libraries"
   ]
  },
  {
   "cell_type": "code",
   "execution_count": 1,
   "id": "cce035ea",
   "metadata": {},
   "outputs": [],
   "source": [
    "import numpy as np \n",
    "import pandas as pd \n",
    "import tensorflow as tf\n",
    "import seaborn as sns\n",
    "import matplotlib.pyplot as plt\n",
    "from sklearn.preprocessing import StandardScaler,LabelEncoder\n",
    "from tensorflow.keras.utils import to_categorical\n",
    "from imblearn.over_sampling import SMOTE\n",
    "from collections import Counter\n",
    "%matplotlib inline"
   ]
  },
  {
   "cell_type": "markdown",
   "id": "dcb8c5b5",
   "metadata": {},
   "source": [
    "### Importing the CSV file"
   ]
  },
  {
   "cell_type": "markdown",
   "id": "888d4760",
   "metadata": {},
   "source": [
    "After importing all the important libraries, the first step is to import the dataset to work on."
   ]
  },
  {
   "cell_type": "code",
   "execution_count": 2,
   "id": "fac7c6ad",
   "metadata": {},
   "outputs": [],
   "source": [
    "birds = pd.read_csv('birdbones/bird.csv')  # Read CSV file"
   ]
  },
  {
   "cell_type": "markdown",
   "id": "af550a7f",
   "metadata": {},
   "source": [
    "### Data observation by EDA"
   ]
  },
  {
   "cell_type": "markdown",
   "id": "bd53516e",
   "metadata": {},
   "source": [
    "The data set is observed and exploratory data analysis is performed to get important information like distribution and imbalance in the data, and correlation bettween features."
   ]
  },
  {
   "cell_type": "code",
   "execution_count": 3,
   "id": "03e16b7b",
   "metadata": {},
   "outputs": [
    {
     "data": {
      "text/plain": [
       "(420, 12)"
      ]
     },
     "execution_count": 3,
     "metadata": {},
     "output_type": "execute_result"
    }
   ],
   "source": [
    "np.shape(birds) #Checking the shape of birds data"
   ]
  },
  {
   "cell_type": "code",
   "execution_count": 4,
   "id": "7be16a2c",
   "metadata": {},
   "outputs": [
    {
     "data": {
      "text/html": [
       "<div>\n",
       "<style scoped>\n",
       "    .dataframe tbody tr th:only-of-type {\n",
       "        vertical-align: middle;\n",
       "    }\n",
       "\n",
       "    .dataframe tbody tr th {\n",
       "        vertical-align: top;\n",
       "    }\n",
       "\n",
       "    .dataframe thead th {\n",
       "        text-align: right;\n",
       "    }\n",
       "</style>\n",
       "<table border=\"1\" class=\"dataframe\">\n",
       "  <thead>\n",
       "    <tr style=\"text-align: right;\">\n",
       "      <th></th>\n",
       "      <th>id</th>\n",
       "      <th>huml</th>\n",
       "      <th>humw</th>\n",
       "      <th>ulnal</th>\n",
       "      <th>ulnaw</th>\n",
       "      <th>feml</th>\n",
       "      <th>femw</th>\n",
       "      <th>tibl</th>\n",
       "      <th>tibw</th>\n",
       "      <th>tarl</th>\n",
       "      <th>tarw</th>\n",
       "      <th>type</th>\n",
       "    </tr>\n",
       "  </thead>\n",
       "  <tbody>\n",
       "    <tr>\n",
       "      <th>0</th>\n",
       "      <td>0</td>\n",
       "      <td>80.78</td>\n",
       "      <td>6.68</td>\n",
       "      <td>72.01</td>\n",
       "      <td>4.88</td>\n",
       "      <td>41.81</td>\n",
       "      <td>3.70</td>\n",
       "      <td>5.50</td>\n",
       "      <td>4.03</td>\n",
       "      <td>38.70</td>\n",
       "      <td>3.84</td>\n",
       "      <td>SW</td>\n",
       "    </tr>\n",
       "    <tr>\n",
       "      <th>1</th>\n",
       "      <td>1</td>\n",
       "      <td>88.91</td>\n",
       "      <td>6.63</td>\n",
       "      <td>80.53</td>\n",
       "      <td>5.59</td>\n",
       "      <td>47.04</td>\n",
       "      <td>4.30</td>\n",
       "      <td>80.22</td>\n",
       "      <td>4.51</td>\n",
       "      <td>41.50</td>\n",
       "      <td>4.01</td>\n",
       "      <td>SW</td>\n",
       "    </tr>\n",
       "    <tr>\n",
       "      <th>2</th>\n",
       "      <td>2</td>\n",
       "      <td>79.97</td>\n",
       "      <td>6.37</td>\n",
       "      <td>69.26</td>\n",
       "      <td>5.28</td>\n",
       "      <td>43.07</td>\n",
       "      <td>3.90</td>\n",
       "      <td>75.35</td>\n",
       "      <td>4.04</td>\n",
       "      <td>38.31</td>\n",
       "      <td>3.34</td>\n",
       "      <td>SW</td>\n",
       "    </tr>\n",
       "    <tr>\n",
       "      <th>3</th>\n",
       "      <td>3</td>\n",
       "      <td>77.65</td>\n",
       "      <td>5.70</td>\n",
       "      <td>65.76</td>\n",
       "      <td>4.77</td>\n",
       "      <td>40.04</td>\n",
       "      <td>3.52</td>\n",
       "      <td>69.17</td>\n",
       "      <td>3.40</td>\n",
       "      <td>35.78</td>\n",
       "      <td>3.41</td>\n",
       "      <td>SW</td>\n",
       "    </tr>\n",
       "    <tr>\n",
       "      <th>4</th>\n",
       "      <td>4</td>\n",
       "      <td>62.80</td>\n",
       "      <td>4.84</td>\n",
       "      <td>52.09</td>\n",
       "      <td>3.73</td>\n",
       "      <td>33.95</td>\n",
       "      <td>2.72</td>\n",
       "      <td>56.27</td>\n",
       "      <td>2.96</td>\n",
       "      <td>31.88</td>\n",
       "      <td>3.13</td>\n",
       "      <td>SW</td>\n",
       "    </tr>\n",
       "  </tbody>\n",
       "</table>\n",
       "</div>"
      ],
      "text/plain": [
       "   id   huml  humw  ulnal  ulnaw   feml  femw   tibl  tibw   tarl  tarw type\n",
       "0   0  80.78  6.68  72.01   4.88  41.81  3.70   5.50  4.03  38.70  3.84   SW\n",
       "1   1  88.91  6.63  80.53   5.59  47.04  4.30  80.22  4.51  41.50  4.01   SW\n",
       "2   2  79.97  6.37  69.26   5.28  43.07  3.90  75.35  4.04  38.31  3.34   SW\n",
       "3   3  77.65  5.70  65.76   4.77  40.04  3.52  69.17  3.40  35.78  3.41   SW\n",
       "4   4  62.80  4.84  52.09   3.73  33.95  2.72  56.27  2.96  31.88  3.13   SW"
      ]
     },
     "execution_count": 4,
     "metadata": {},
     "output_type": "execute_result"
    }
   ],
   "source": [
    "birds.head() #tabular representation of first five rows"
   ]
  },
  {
   "cell_type": "markdown",
   "id": "2494a1df",
   "metadata": {},
   "source": [
    "The cell below will remove all the rows that have NA values in the dataset, because these rows are of no use to us in anyway. Also there are only 7 such rows so it does not effect the dataset as much.  "
   ]
  },
  {
   "cell_type": "code",
   "execution_count": 5,
   "id": "698f0dba",
   "metadata": {},
   "outputs": [],
   "source": [
    "birds=birds.dropna(axis=0, how=\"any\") #Removing the NA values\n",
    "birds=birds.drop(['id'],axis=1)       #Removing id column as it is not important"
   ]
  },
  {
   "cell_type": "code",
   "execution_count": 6,
   "id": "c60f2578",
   "metadata": {},
   "outputs": [
    {
     "data": {
      "text/plain": [
       "(413, 11)"
      ]
     },
     "execution_count": 6,
     "metadata": {},
     "output_type": "execute_result"
    }
   ],
   "source": [
    "np.shape(birds) # verify the new shape of data. Removed 7 columns."
   ]
  },
  {
   "cell_type": "code",
   "execution_count": 7,
   "id": "beb7afd0",
   "metadata": {
    "scrolled": true
   },
   "outputs": [
    {
     "data": {
      "text/plain": [
       "str"
      ]
     },
     "execution_count": 7,
     "metadata": {},
     "output_type": "execute_result"
    }
   ],
   "source": [
    "type(birds.type[1]) \n",
    "#Confirming the data types as seen in above table. probably need to do label encoding."
   ]
  },
  {
   "cell_type": "markdown",
   "id": "7655412f",
   "metadata": {},
   "source": [
    "The above cell shows that the types of birds in the dataset are in string format. Best appoach is to change these into numerical labels. We would be using Label Encoding to do this."
   ]
  },
  {
   "cell_type": "code",
   "execution_count": 8,
   "id": "f8cf2b78",
   "metadata": {},
   "outputs": [
    {
     "data": {
      "text/plain": [
       "numpy.float64"
      ]
     },
     "execution_count": 8,
     "metadata": {},
     "output_type": "execute_result"
    }
   ],
   "source": [
    "type(birds.huml[1]) #Confirming the data types as seen in above table."
   ]
  },
  {
   "cell_type": "markdown",
   "id": "0759b708",
   "metadata": {},
   "source": [
    "The below cell shows all the important statistical information ofthe dataset. Important thing to notice is the mean values of the bone measues, and the standard deviations. These suggest that we should consider standardiziation of this dataset.(Will be discussed in preprocessing)"
   ]
  },
  {
   "cell_type": "code",
   "execution_count": 9,
   "id": "4b45f0e2",
   "metadata": {},
   "outputs": [
    {
     "data": {
      "text/html": [
       "<div>\n",
       "<style scoped>\n",
       "    .dataframe tbody tr th:only-of-type {\n",
       "        vertical-align: middle;\n",
       "    }\n",
       "\n",
       "    .dataframe tbody tr th {\n",
       "        vertical-align: top;\n",
       "    }\n",
       "\n",
       "    .dataframe thead th {\n",
       "        text-align: right;\n",
       "    }\n",
       "</style>\n",
       "<table border=\"1\" class=\"dataframe\">\n",
       "  <thead>\n",
       "    <tr style=\"text-align: right;\">\n",
       "      <th></th>\n",
       "      <th>huml</th>\n",
       "      <th>humw</th>\n",
       "      <th>ulnal</th>\n",
       "      <th>ulnaw</th>\n",
       "      <th>feml</th>\n",
       "      <th>femw</th>\n",
       "      <th>tibl</th>\n",
       "      <th>tibw</th>\n",
       "      <th>tarl</th>\n",
       "      <th>tarw</th>\n",
       "    </tr>\n",
       "  </thead>\n",
       "  <tbody>\n",
       "    <tr>\n",
       "      <th>count</th>\n",
       "      <td>413.000000</td>\n",
       "      <td>413.000000</td>\n",
       "      <td>413.000000</td>\n",
       "      <td>413.000000</td>\n",
       "      <td>413.000000</td>\n",
       "      <td>413.000000</td>\n",
       "      <td>413.000000</td>\n",
       "      <td>413.000000</td>\n",
       "      <td>413.000000</td>\n",
       "      <td>413.000000</td>\n",
       "    </tr>\n",
       "    <tr>\n",
       "      <th>mean</th>\n",
       "      <td>64.874867</td>\n",
       "      <td>4.381235</td>\n",
       "      <td>69.197409</td>\n",
       "      <td>3.606538</td>\n",
       "      <td>36.822446</td>\n",
       "      <td>3.221768</td>\n",
       "      <td>64.615642</td>\n",
       "      <td>3.182324</td>\n",
       "      <td>39.309806</td>\n",
       "      <td>2.944891</td>\n",
       "    </tr>\n",
       "    <tr>\n",
       "      <th>std</th>\n",
       "      <td>54.056078</td>\n",
       "      <td>2.861460</td>\n",
       "      <td>58.929490</td>\n",
       "      <td>2.190150</td>\n",
       "      <td>19.899356</td>\n",
       "      <td>2.021169</td>\n",
       "      <td>37.977929</td>\n",
       "      <td>2.084124</td>\n",
       "      <td>23.272704</td>\n",
       "      <td>2.194744</td>\n",
       "    </tr>\n",
       "    <tr>\n",
       "      <th>min</th>\n",
       "      <td>9.850000</td>\n",
       "      <td>1.140000</td>\n",
       "      <td>14.090000</td>\n",
       "      <td>1.000000</td>\n",
       "      <td>11.830000</td>\n",
       "      <td>0.930000</td>\n",
       "      <td>5.500000</td>\n",
       "      <td>0.870000</td>\n",
       "      <td>7.770000</td>\n",
       "      <td>0.660000</td>\n",
       "    </tr>\n",
       "    <tr>\n",
       "      <th>25%</th>\n",
       "      <td>25.360000</td>\n",
       "      <td>2.200000</td>\n",
       "      <td>28.160000</td>\n",
       "      <td>1.870000</td>\n",
       "      <td>21.350000</td>\n",
       "      <td>1.720000</td>\n",
       "      <td>36.350000</td>\n",
       "      <td>1.560000</td>\n",
       "      <td>23.050000</td>\n",
       "      <td>1.430000</td>\n",
       "    </tr>\n",
       "    <tr>\n",
       "      <th>50%</th>\n",
       "      <td>44.180000</td>\n",
       "      <td>3.500000</td>\n",
       "      <td>43.710000</td>\n",
       "      <td>2.960000</td>\n",
       "      <td>31.090000</td>\n",
       "      <td>2.520000</td>\n",
       "      <td>51.880000</td>\n",
       "      <td>2.490000</td>\n",
       "      <td>31.740000</td>\n",
       "      <td>2.240000</td>\n",
       "    </tr>\n",
       "    <tr>\n",
       "      <th>75%</th>\n",
       "      <td>90.490000</td>\n",
       "      <td>5.820000</td>\n",
       "      <td>97.520000</td>\n",
       "      <td>4.770000</td>\n",
       "      <td>47.090000</td>\n",
       "      <td>4.110000</td>\n",
       "      <td>82.870000</td>\n",
       "      <td>4.250000</td>\n",
       "      <td>50.440000</td>\n",
       "      <td>3.520000</td>\n",
       "    </tr>\n",
       "    <tr>\n",
       "      <th>max</th>\n",
       "      <td>420.000000</td>\n",
       "      <td>17.840000</td>\n",
       "      <td>422.000000</td>\n",
       "      <td>12.000000</td>\n",
       "      <td>117.070000</td>\n",
       "      <td>11.640000</td>\n",
       "      <td>240.000000</td>\n",
       "      <td>11.030000</td>\n",
       "      <td>175.000000</td>\n",
       "      <td>14.090000</td>\n",
       "    </tr>\n",
       "  </tbody>\n",
       "</table>\n",
       "</div>"
      ],
      "text/plain": [
       "             huml        humw       ulnal       ulnaw        feml        femw  \\\n",
       "count  413.000000  413.000000  413.000000  413.000000  413.000000  413.000000   \n",
       "mean    64.874867    4.381235   69.197409    3.606538   36.822446    3.221768   \n",
       "std     54.056078    2.861460   58.929490    2.190150   19.899356    2.021169   \n",
       "min      9.850000    1.140000   14.090000    1.000000   11.830000    0.930000   \n",
       "25%     25.360000    2.200000   28.160000    1.870000   21.350000    1.720000   \n",
       "50%     44.180000    3.500000   43.710000    2.960000   31.090000    2.520000   \n",
       "75%     90.490000    5.820000   97.520000    4.770000   47.090000    4.110000   \n",
       "max    420.000000   17.840000  422.000000   12.000000  117.070000   11.640000   \n",
       "\n",
       "             tibl        tibw        tarl        tarw  \n",
       "count  413.000000  413.000000  413.000000  413.000000  \n",
       "mean    64.615642    3.182324   39.309806    2.944891  \n",
       "std     37.977929    2.084124   23.272704    2.194744  \n",
       "min      5.500000    0.870000    7.770000    0.660000  \n",
       "25%     36.350000    1.560000   23.050000    1.430000  \n",
       "50%     51.880000    2.490000   31.740000    2.240000  \n",
       "75%     82.870000    4.250000   50.440000    3.520000  \n",
       "max    240.000000   11.030000  175.000000   14.090000  "
      ]
     },
     "execution_count": 9,
     "metadata": {},
     "output_type": "execute_result"
    }
   ],
   "source": [
    "birds.describe() #Important stats observation of the data."
   ]
  },
  {
   "cell_type": "markdown",
   "id": "383a93f0",
   "metadata": {},
   "source": [
    "### Pie chart - percentage of each class of birds in the dataset"
   ]
  },
  {
   "cell_type": "markdown",
   "id": "74f23bf9",
   "metadata": {},
   "source": [
    "The pie chart below shows the distribution of dataset with respect to the types of the birds. This shows clear imbalance in the dataset as two of the classes make around 58% of data while other four, the remaining 42%."
   ]
  },
  {
   "cell_type": "code",
   "execution_count": 10,
   "id": "00aee951",
   "metadata": {},
   "outputs": [
    {
     "data": {
      "image/png": "[encoded data removed]",
      "text/plain": [
       "<Figure size 432x288 with 1 Axes>"
      ]
     },
     "metadata": {},
     "output_type": "display_data"
    }
   ],
   "source": [
    "# Graphically represent the ecological bird types as a pie chart:\n",
    "label=['SO','SW','W','R','P','T']\n",
    "expld = 0.2*np.ones(6)\n",
    "plt.pie(birds['type'].value_counts(), labels=label, explode=expld, shadow=True, autopct='%1.1f%%')\n",
    "plt.title('Percent count of individual bird type')\n",
    "plt.axis('equal')\n",
    "plt.show()"
   ]
  },
  {
   "cell_type": "code",
   "execution_count": 11,
   "id": "75e7974c",
   "metadata": {},
   "outputs": [],
   "source": [
    "columns = ['huml', 'humw', 'ulnal', 'ulnaw', 'feml', 'femw', 'tibl', 'tibw', 'tarl', 'tarw']\n",
    "# The features of the birds bones"
   ]
  },
  {
   "cell_type": "markdown",
   "id": "b4f9d451",
   "metadata": {},
   "source": [
    "### Box plot - Relation of each bone measure with respect to each bird class"
   ]
  },
  {
   "cell_type": "markdown",
   "id": "d6685edc",
   "metadata": {},
   "source": [
    "Another thing to observe is the trend of each bone measurement among different ecological classes of the birds to check if they are related to these measurements. This can be done by creating box plots between each bone measurement against each bird type. The results are interesting as they clearly show that the difference among the classes is very similar across the different bone measurements. The scansorial, singing and terrestrial birds have very small length and width of bones while the other three categories, raptors, swimming, and wading birds, have higher measure of bone length and width with greater variance. These results show high correlation between bone measurements and hence suggest classification method to solve this problem."
   ]
  },
  {
   "cell_type": "code",
   "execution_count": 12,
   "id": "335bafe8",
   "metadata": {},
   "outputs": [
    {
     "data": {
      "image/png": "[encoded data removed]",
      "text/plain": [
       "<Figure size 936x1440 with 10 Axes>"
      ]
     },
     "metadata": {
      "needs_background": "light"
     },
     "output_type": "display_data"
    }
   ],
   "source": [
    "_, axes = plt.subplots(nrows=5, ncols=2, figsize=(13, 20))\n",
    "\n",
    "for f, ax in zip(columns, axes.ravel()):\n",
    "    _ = sns.boxplot(\n",
    "        data=birds, \n",
    "        y=f, \n",
    "        x='type', \n",
    "        ax=ax, \n",
    "        palette=sns.color_palette(\"Set1\", n_colors=6, desat=.5)\n",
    "    )\n",
    "    \n",
    "    ax.set_xlabel(\"\")"
   ]
  }
 ],
 "metadata": {
  "kernelspec": {
   "display_name": "Python 3",
   "language": "python",
   "name": "python3"
  },
  "language_info": {
   "codemirror_mode": {
    "name": "ipython",
    "version": 3
   },
   "file_extension": ".py",
   "mimetype": "text/x-python",
   "name": "python",
   "nbconvert_exporter": "python",
   "pygments_lexer": "ipython3",
   "version": "3.7.11"
  }
 },
 "nbformat": 4,
 "nbformat_minor": 5
}
