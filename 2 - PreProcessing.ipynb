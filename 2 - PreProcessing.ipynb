{
 "cells": [
  {
   "attachments": {},
   "cell_type": "markdown",
   "id": "df9747c6",
   "metadata": {},
   "source": [
    "# Machine Learning Model Development\n",
    "## 2 - Pre-processing"
   ]
  },
  {
   "cell_type": "markdown",
   "id": "9d7b62bb",
   "metadata": {},
   "source": [
    "### Label encoding and Balancing"
   ]
  },
  {
   "cell_type": "markdown",
   "id": "9cc462a4",
   "metadata": {},
   "source": [
    "Although encoding and balancing is pre-processing step, we have already discussed iun the EDA part so we will not need to do it again."
   ]
  },
  {
   "cell_type": "markdown",
   "id": "e26d7713",
   "metadata": {},
   "source": [
    "### Standardization"
   ]
  },
  {
   "cell_type": "markdown",
   "id": "ec5b5aac",
   "metadata": {},
   "source": [
    "Standardization is a very important step in most machine learning tasks. Some people just standarize their data without even knowing if it is needed or not. Standardization is done if the two feature values have huge difference in value or they are completely different quantities for example, weight in lbs and height in cm are completely diffrent quantities and choosing a distance based model, like SVM, will compleetlely a bias the training towards the distance based feature. For this purpose, we will have to observe the dat again to see if we need standardization or not."
   ]
  },
  {
   "cell_type": "code",
   "execution_count": 46,
   "id": "35655218",
   "metadata": {
    "scrolled": false
   },
   "outputs": [
    {
     "data": {
      "text/html": [
       "<div>\n",
       "<style scoped>\n",
       "    .dataframe tbody tr th:only-of-type {\n",
       "        vertical-align: middle;\n",
       "    }\n",
       "\n",
       "    .dataframe tbody tr th {\n",
       "        vertical-align: top;\n",
       "    }\n",
       "\n",
       "    .dataframe thead th {\n",
       "        text-align: right;\n",
       "    }\n",
       "</style>\n",
       "<table border=\"1\" class=\"dataframe\">\n",
       "  <thead>\n",
       "    <tr style=\"text-align: right;\">\n",
       "      <th></th>\n",
       "      <th>huml</th>\n",
       "      <th>humw</th>\n",
       "      <th>feml</th>\n",
       "      <th>femw</th>\n",
       "      <th>tibl</th>\n",
       "      <th>tibw</th>\n",
       "      <th>tarl</th>\n",
       "      <th>tarw</th>\n",
       "      <th>type</th>\n",
       "    </tr>\n",
       "  </thead>\n",
       "  <tbody>\n",
       "    <tr>\n",
       "      <th>mean</th>\n",
       "      <td>58.209442</td>\n",
       "      <td>4.235932</td>\n",
       "      <td>37.626017</td>\n",
       "      <td>3.170622</td>\n",
       "      <td>61.145261</td>\n",
       "      <td>3.055773</td>\n",
       "      <td>37.452698</td>\n",
       "      <td>2.915734</td>\n",
       "      <td>2.5</td>\n",
       "    </tr>\n",
       "  </tbody>\n",
       "</table>\n",
       "</div>"
      ],
      "text/plain": [
       "           huml      humw       feml      femw       tibl      tibw  \\\n",
       "mean  58.209442  4.235932  37.626017  3.170622  61.145261  3.055773   \n",
       "\n",
       "           tarl      tarw  type  \n",
       "mean  37.452698  2.915734   2.5  "
      ]
     },
     "execution_count": 46,
     "metadata": {},
     "output_type": "execute_result"
    }
   ],
   "source": [
    "pd.DataFrame(data.describe().iloc[1:2,0:10])"
   ]
  },
  {
   "cell_type": "markdown",
   "id": "753daff8",
   "metadata": {},
   "source": [
    "The above cell shows the mean value of each bone measurment and it is clear that the lengths of the bones are a multiple of 10 and range in 30's and 60's while the widths are multiple of 1 and are all below 5. This is a big difference in value and we will need to scale these values. Standard scalar will subtract the mean from each value and divide it by standard deviation to getr scaled values as shown below. "
   ]
  },
  {
   "cell_type": "code",
   "execution_count": 47,
   "id": "a29efb0b",
   "metadata": {},
   "outputs": [],
   "source": [
    "from sklearn.preprocessing import StandardScaler\n",
    "# initialise standard scaler object\n",
    "columns = ['huml', 'humw', 'feml','femw','tibl', 'tibw', 'tarl', 'tarw']\n",
    "# The features of the birds bones\n",
    "scaler = StandardScaler()\n",
    "scaler.fit(X_train[columns])\n",
    "scaled_features_Train = scaler.transform(X_train[columns])\n",
    "scaler.fit(X_test[columns])\n",
    "scaled_features_Test = scaler.transform(X_test[columns])\n",
    "\n",
    "X_train = pd.DataFrame(scaled_features_Train,columns=columns)\n",
    "X_test  = pd.DataFrame(scaled_features_Test,columns=columns)"
   ]
  }
 ],
 "metadata": {
  "kernelspec": {
   "display_name": "Python 3",
   "language": "python",
   "name": "python3"
  },
  "language_info": {
   "codemirror_mode": {
    "name": "ipython",
    "version": 3
   },
   "file_extension": ".py",
   "mimetype": "text/x-python",
   "name": "python",
   "nbconvert_exporter": "python",
   "pygments_lexer": "ipython3",
   "version": "3.7.11"
  }
 },
 "nbformat": 4,
 "nbformat_minor": 5
}
